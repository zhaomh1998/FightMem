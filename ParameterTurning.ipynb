{
 "cells": [
  {
   "cell_type": "code",
   "execution_count": 7,
   "metadata": {},
   "outputs": [],
   "source": [
    "import ebisu"
   ]
  },
  {
   "cell_type": "code",
   "execution_count": 159,
   "metadata": {},
   "outputs": [
    {
     "name": "stdout",
     "output_type": "stream",
     "text": [
      "0.9871165108221095\n",
      "(3.016666666666621, 2.9999999999999534, 0.5)\n",
      "0.5022518714684554\n",
      "0.9295626046622414\n",
      "(3.2166666666666033, 2.999999999999941, 0.5)\n",
      "0.5292182198001399\n",
      "0.8267501066483256\n",
      "(4.21666666666667, 2.9999999999999876, 0.5)\n",
      "0.6628800488990421\n",
      "0.594860575009173\n",
      "(1.8573374450217752, 3.165454953167223, 4.166045757760385)\n",
      "2.751734631022473\n",
      "0.6231407199212834\n",
      "(3.9945726845703278, 3.2284239509832946, 12.769784997306278)\n",
      "15.192305800307533\n",
      "0.6876040880814309\n",
      "(1.573966409851115, 3.4730435265913426, 106.39901723108005)\n",
      "58.522507989051135\n"
     ]
    }
   ],
   "source": [
    "start_model=(3., 3., 0.5)\n",
    "model = start_model\n",
    "review_time = [0.5/60, 3/60, 10/60, 2, 10, 30]\n",
    "total = 0\n",
    "success = 0\n",
    "for i in review_time:\n",
    "    total += 1\n",
    "    success += 1\n",
    "    model = ebisu.updateRecall(\n",
    "        prior=model,\n",
    "        successes=success,\n",
    "        total=total,\n",
    "        tnow=i\n",
    "    )\n",
    "    \n",
    "    print(\n",
    "        ebisu.predictRecall(\n",
    "            prior=model,\n",
    "            tnow=i,\n",
    "            exact=True\n",
    "    ))\n",
    "    print(model)\n",
    "    print(ebisu.modelToPercentileDecay(model))"
   ]
  }
 ],
 "metadata": {
  "kernelspec": {
   "display_name": "Python 3",
   "language": "python",
   "name": "python3"
  },
  "language_info": {
   "codemirror_mode": {
    "name": "ipython",
    "version": 3
   },
   "file_extension": ".py",
   "mimetype": "text/x-python",
   "name": "python",
   "nbconvert_exporter": "python",
   "pygments_lexer": "ipython3",
   "version": "3.7.6"
  }
 },
 "nbformat": 4,
 "nbformat_minor": 4
}
